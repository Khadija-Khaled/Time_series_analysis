{
 "cells": [
  {
   "cell_type": "markdown",
   "metadata": {},
   "source": [
    "# Time Analysis prediction \n",
    "\n",
    "using the regrssion techniques can you predict the future of the stock market based on the history of it ?\n",
    "\n",
    "![Time analysis](https://magoosh.com/statistics/files/2018/05/time_series.png)\n",
    "\n",
    "it would be great to predict one day in the future, one month and one year !"
   ]
  },
  {
   "cell_type": "code",
   "execution_count": null,
   "metadata": {},
   "outputs": [],
   "source": [
    "import pandas as pd\n",
    "import seaborn as sns\n",
    "import numpy as np\n",
    "import matplotlib.pyplot as plt\n",
    "import matplotlib\n",
    "%matplotlib inline\n",
    "\n",
    "\n",
    "plt.style.use('fivethirtyeight')\n",
    "matplotlib.rcParams['axes.labelsize'] = 14\n",
    "matplotlib.rcParams['xtick.labelsize'] = 12\n",
    "matplotlib.rcParams['ytick.labelsize'] = 12\n",
    "matplotlib.rcParams['text.color'] = 'k'"
   ]
  },
  {
   "cell_type": "code",
   "execution_count": null,
   "metadata": {},
   "outputs": [],
   "source": [
    "dataset = pd.read_csv(\"EURUSD_15m_BID_01.01.2010-31.12.2016.csv\")\n",
    "dataset.info()"
   ]
  },
  {
   "cell_type": "code",
   "execution_count": null,
   "metadata": {},
   "outputs": [],
   "source": [
    "dataset.head()"
   ]
  },
  {
   "cell_type": "code",
   "execution_count": null,
   "metadata": {},
   "outputs": [],
   "source": [
    "# plotting close price and Volumee against time\n",
    "plt.plot(dataset.index, dataset['Close'])\n",
    "plt.title('Stock Volume Time analysis')\n",
    "plt.ylabel('Volume');\n",
    "plt.show()\n",
    "\n",
    "plt.plot(dataset.index, dataset['Volume'])\n",
    "plt.title('Stock Volume Time analysis')\n",
    "plt.ylabel('Volume');\n",
    "plt.show()"
   ]
  },
  {
   "cell_type": "code",
   "execution_count": null,
   "metadata": {},
   "outputs": [],
   "source": [
    "close_price = dataset.iloc[:,[0,4]]\n",
    "volume = dataset.iloc[:,[0,5]]\n",
    "print(close_price.head())\n",
    "print(volume.head())"
   ]
  },
  {
   "cell_type": "code",
   "execution_count": null,
   "metadata": {
    "scrolled": true
   },
   "outputs": [],
   "source": [
    "from sklearn.preprocessing import Imputer\n",
    "# make a new imputer \n",
    "imputer = Imputer(missing_values=0, strategy='mean',axis=0)#fills empty cells withh mean of column,axis = 0 column\n",
    "close_price = pd.DataFrame(imputer.fit_transform(close_price))\n",
    "volume = pd.DataFrame(imputer.fit_transform(volume))"
   ]
  },
  {
   "cell_type": "code",
   "execution_count": null,
   "metadata": {},
   "outputs": [],
   "source": [
    "print(close_price.isna().sum())\n",
    "print(volume.isna().sum())"
   ]
  },
  {
   "cell_type": "code",
   "execution_count": null,
   "metadata": {},
   "outputs": [],
   "source": [
    "# plotting close price and Volumee against time\n",
    "plt.plot(close_price.Time, close_price.Close)\n",
    "plt.title('Stock Volume Time analysis')\n",
    "plt.ylabel('Volume');\n",
    "plt.show()\n",
    "\n",
    "plt.plot(volume.Time, volume.Volume)\n",
    "plt.title('Stock Volume Time analysis')\n",
    "plt.ylabel('Volume');\n",
    "plt.show()"
   ]
  },
  {
   "cell_type": "markdown",
   "metadata": {},
   "source": [
    "When creating the prophet models the default value of prior changepoint is 0.05. This hyperparameter is used to control how sensitive the trend is to changes, with a higher value being more sensitive and a lower value less sensitive. This value is used to combat one of the most fundamental trade-offs in machine learning: bias vs. variance."
   ]
  },
  {
   "cell_type": "markdown",
   "metadata": {},
   "source": [
    "changepoints, which occur when a time-series goes from increasing to decreasing, or from increasing slowly to increasing rapidly (they are located where the rate change in the time series is greatest)"
   ]
  },
  {
   "cell_type": "code",
   "execution_count": null,
   "metadata": {},
   "outputs": [],
   "source": [
    "import fbprophet\n",
    "\n",
    "# Prophet requires columns ds (Date) and y (value)\n",
    "close_price = close_price.rename(columns={'Time': 'ds', 'Close': 'y'})\n",
    "\n",
    "# Make the prophet models and fit on the data\n",
    "# changepoint_prior_scale can be changed to achieve a better fit\n",
    "close_price_pr = fbprophet.Prophet(changepoint_prior_scale=0.05)\n",
    "close_price_pr.fit(close_price)\n",
    "\n",
    "# Repeat for the tesla data\n",
    "volume =volume.rename(columns={'Time': 'ds', 'Volume': 'y'})\n",
    "#change volume valuesto billions\n",
    "volume['y'] = volume['y'] / 1e9\n",
    "volume_pr = fbprophet.Prophet(changepoint_prior_scale=0.05, n_changepoints=10)\n",
    "volume_pr.fit(volume)"
   ]
  },
  {
   "cell_type": "code",
   "execution_count": null,
   "metadata": {},
   "outputs": [],
   "source": [
    "# Make a future dataframe for 2 years\n",
    "close_price_forecast = close_price_pr.make_future_dataframe(periods=365 * 2, freq='D')\n",
    "# Make predictions\n",
    "close_price_forecast = close_price_pr.predict(close_price_forecast)\n",
    "\n",
    "volume_forecast = volume_pr.make_future_dataframe(periods=365*2, freq='D')\n",
    "volume_forecast = volume_pr.predict(volume_forecast)"
   ]
  },
  {
   "cell_type": "code",
   "execution_count": null,
   "metadata": {},
   "outputs": [],
   "source": [
    "close_price_pr.plot(close_price_forecast, xlabel = 'Date', ylabel = 'Close Price')\n",
    "plt.title('Close Price')"
   ]
  },
  {
   "cell_type": "code",
   "execution_count": null,
   "metadata": {},
   "outputs": [],
   "source": [
    "tesla_prophet.plot(volume_forecast, xlabel = 'Date', ylabel = 'Market Volume (billions $)')\n",
    "plt.title('Stock market volume')"
   ]
  },
  {
   "cell_type": "code",
   "execution_count": null,
   "metadata": {},
   "outputs": [],
   "source": []
  }
 ],
 "metadata": {
  "kernelspec": {
   "display_name": "Python 3",
   "language": "python",
   "name": "python3"
  },
  "language_info": {
   "codemirror_mode": {
    "name": "ipython",
    "version": 3
   },
   "file_extension": ".py",
   "mimetype": "text/x-python",
   "name": "python",
   "nbconvert_exporter": "python",
   "pygments_lexer": "ipython3",
   "version": "3.7.4"
  }
 },
 "nbformat": 4,
 "nbformat_minor": 2
}
